{
 "cells": [
  {
   "cell_type": "code",
   "execution_count": 112,
   "metadata": {},
   "outputs": [],
   "source": [
    "import json\n",
    "from beautifultable import BeautifulTable\n",
    "import numpy as np \n",
    "import matplotlib.pyplot as plt \n"
   ]
  },
  {
   "cell_type": "code",
   "execution_count": 113,
   "metadata": {},
   "outputs": [],
   "source": [
    "#Load Json as file input for processing. Process as list later \n",
    "with open('D:\\INTERVIEW_DS_ML\\BMICALCULATOR\\BMIdataset.json') as jf:\n",
    "    bmi_d_set = json.load(jf)"
   ]
  },
  {
   "cell_type": "code",
   "execution_count": 114,
   "metadata": {},
   "outputs": [],
   "source": [
    "#Method to process json data in batches using yield method.\n",
    "def bmibatch(itrlist, n=1):\n",
    "    length = len(itrlist)\n",
    "    for bmichunks in range(0, length, n):\n",
    "        yield itrlist[bmichunks:min(bmichunks + n, length)]\n"
   ]
  },
  {
   "cell_type": "code",
   "execution_count": 115,
   "metadata": {},
   "outputs": [],
   "source": [
    "#table formation using beautifultable libraries \n",
    "##Using static counter for counting the values for the graph representation \n",
    "    \n",
    "bmitbl = BeautifulTable()\n",
    "bmitbl.column_headers = [\"BMI Category\",\"BMI Range (kg/m^2)\",\"Health Risk\"]\n",
    "\n",
    "def fstaticcounter1():\n",
    "    fstaticcounter1.femaleMalRsk_Counter += 1\n",
    "    return fstaticcounter1.femaleMalRsk_Counter\n",
    "fstaticcounter1.femaleMalRsk_Counter = 0\n",
    "\n",
    "def fstaticcounter2():\n",
    "    fstaticcounter2.femaleLwRsk_Counter += 1\n",
    "    return fstaticcounter2.femaleLwRsk_Counter\n",
    "fstaticcounter2.femaleLwRsk_Counter = 0\n",
    "\n",
    "def fstaticcounter3():\n",
    "    fstaticcounter3.femaleEnRsk_Counter += 1\n",
    "    return fstaticcounter3.femaleEnRsk_Counter\n",
    "fstaticcounter3.femaleEnRsk_Counter = 0\n",
    "\n",
    "def fstaticcounter4():\n",
    "    fstaticcounter4.femaleMedRsk_Counter += 1\n",
    "    return fstaticcounter4.femaleMedRsk_Counter\n",
    "fstaticcounter4.femaleMedRsk_Counter = 0\n",
    "\n",
    "def fstaticcounter5():\n",
    "    fstaticcounter5.femaleHghRsk_Counter += 1\n",
    "    return fstaticcounter5.femaleHghRsk_Counter\n",
    "fstaticcounter5.femaleHghRsk_Counter = 0\n",
    "\n",
    "def fstaticcounter6():\n",
    "    fstaticcounter6.femaleVhghRsk_Counter += 1\n",
    "    return fstaticcounter6.femaleVhghRsk_Counter\n",
    "fstaticcounter6.femaleVhghRsk_Counter = 0\n",
    "\n",
    "def mstaticcounter1():\n",
    "    mstaticcounter1.maleMalRsk_Counter += 1\n",
    "    return mstaticcounter1.maleMalRsk_Counter\n",
    "mstaticcounter1.maleMalRsk_Counter = 0\n",
    "\n",
    "def mstaticcounter2():\n",
    "    mstaticcounter2.maleLwRsk_Counter += 1\n",
    "    return mstaticcounter2.maleLwRsk_Counter\n",
    "mstaticcounter2.maleLwRsk_Counter = 0\n",
    "\n",
    "def mstaticcounter3():\n",
    "    mstaticcounter3.maleEnRsk_Counter += 1\n",
    "    return mstaticcounter3.maleEnRsk_Counter\n",
    "fstaticcounter3.maleEnRsk_Counter = 0\n",
    "\n",
    "def mstaticcounter4():\n",
    "    mstaticcounter4.maleMedRsk_Counter += 1\n",
    "    return mstaticcounter4.maleMedRsk_Counter\n",
    "mstaticcounter4.maleMedRsk_Counter = 0\n",
    "\n",
    "def mstaticcounter5():\n",
    "    mstaticcounter5.maleHghRsk_Counter += 1\n",
    "    return mstaticcounter5.maleHghRsk_Counter\n",
    "mstaticcounter5.maleHghRsk_Counter = 0\n",
    "\n",
    "def mstaticcounter6():\n",
    "    mstaticcounter6.maleVhghRsk_Counter += 1\n",
    "    return mstaticcounter6.maleVhghRsk_Counter\n",
    "mstaticcounter6.maleVhghRsk_Counter = 0"
   ]
  },
  {
   "cell_type": "code",
   "execution_count": 116,
   "metadata": {},
   "outputs": [],
   "source": [
    "#call the batch method for data caculation for BMI logic \n",
    "##as sample input has 6 records processed as batch of 3\n",
    "for bmisubset in bmibatch(bmi_d_set, 3):\n",
    "    \n",
    "    for bmiitem in bmisubset:\n",
    "        gender=bmiitem['Gender']\n",
    "        heightmtr=bmiitem['HeightCm']/100\n",
    "        weight=bmiitem['WeightKg']\n",
    "        bmi=weight/heightmtr\n",
    "        \n",
    "        if bmi <= 18.4:\n",
    "            bmitbl.append_row(['Underweight',  bmi,  'Malnutrition risk'])\n",
    "            if gender.lower() == 'female':\n",
    "                femaleMalRsk_Counter=fstaticcounter1()\n",
    "            else:\n",
    "                maleMalRsk_Counter=mstaticcounter1()\n",
    "        elif bmi > 18.4 and bmi <=24.9:\n",
    "            bmitbl.append_row(['Normalweight',  bmi,  'Low risk'])\n",
    "            if gender.lower() == 'female':\n",
    "                femaleLwRsk_Counter=fstaticcounter2()\n",
    "            else:\n",
    "                maleLwRsk_Counter= mstaticcounter2()\n",
    "        elif bmi > 24.9 and bmi <=29.9:\n",
    "            bmitbl.append_row(['Overweight',  bmi,  'Enhanced risk'])\n",
    "            if gender.lower() =='female':\n",
    "                femaleEnRsk_Counter=fstaticcounter3()\n",
    "            else:\n",
    "                maleEnRsk_Counter= mstaticcounter3()\n",
    "        elif bmi > 29.9 and bmi <=34.9:\n",
    "            bmitbl.append_row(['ModeratelyObese',  bmi,  'Medium risk'])\n",
    "            if gender.lower()=='female':\n",
    "                femaleMedRsk_Counter=fstaticcounter4()\n",
    "            else:\n",
    "                maleMedRsk_Counter= mstaticcounter4()\n",
    "        elif bmi > 34.9 and bmi <=39.9:\n",
    "            bmitbl.append_row(['SeverelyObese',  bmi,  'High risk'])\n",
    "            if gender.lower()=='female':\n",
    "                femaleHghRsk_Counter=fstaticcounter5()\n",
    "            else:\n",
    "                maleHghRsk_Counter= mstaticcounter5()\n",
    "        else:\n",
    "            bmitbl.append_row(['VerySeverelyObese',  bmi,  'Very High risk'])\n",
    "            if gender.lower()=='female':\n",
    "                femaleVhghRsk_Counter=fstaticcounter6()\n",
    "            else:\n",
    "                maleVhghRsk_Counter=mstaticcounter6()\n",
    "        \n"
   ]
  },
  {
   "cell_type": "code",
   "execution_count": 118,
   "metadata": {},
   "outputs": [
    {
     "name": "stdout",
     "output_type": "stream",
     "text": [
      "+-------------------+--------------------+----------------+\n",
      "|   BMI Category    | BMI Range (kg/m^2) |  Health Risk   |\n",
      "+-------------------+--------------------+----------------+\n",
      "| VerySeverelyObese |       56.14        | Very High risk |\n",
      "+-------------------+--------------------+----------------+\n",
      "| VerySeverelyObese |       52.795       | Very High risk |\n",
      "+-------------------+--------------------+----------------+\n",
      "| VerySeverelyObese |       42.778       | Very High risk |\n",
      "+-------------------+--------------------+----------------+\n",
      "|   SeverelyObese   |       37.349       |   High risk    |\n",
      "+-------------------+--------------------+----------------+\n",
      "| VerySeverelyObese |       46.667       | Very High risk |\n",
      "+-------------------+--------------------+----------------+\n",
      "| VerySeverelyObese |       49.102       | Very High risk |\n",
      "+-------------------+--------------------+----------------+\n"
     ]
    },
    {
     "data": {
      "image/png": "[encoded data removed]",
      "text/plain": [
       "<Figure size 432x288 with 1 Axes>"
      ]
     },
     "metadata": {
      "needs_background": "light"
     },
     "output_type": "display_data"
    }
   ],
   "source": [
    "#Print the informtion table and graph \n",
    "##Y-axis plots are dynamic based on volume of data \n",
    "print(bmitbl)\n",
    "X_param = ['MalRisk','LowRisk','EncdRisk','MedRisk','HighRisk','VryHighRisk']\n",
    "female = [femaleMalRsk_Counter,femaleLwRsk_Counter,femaleEnRsk_Counter,femaleMedRsk_Counter,femaleHghRsk_Counter,femaleVhghRsk_Counter]\n",
    "male = [maleMalRsk_Counter,maleLwRsk_Counter,maleEnRsk_Counter,maleMedRsk_Counter,maleHghRsk_Counter,maleVhghRsk_Counter]\n",
    "  \n",
    "X_axis = np.arange(len(X_param))\n",
    "  \n",
    "plt.bar(X_axis - 0.1, female, 0.2, label = 'Female')\n",
    "plt.bar(X_axis + 0.1, male, 0.2, label = 'Male')\n",
    "  \n",
    "plt.xticks(X_axis, X_param)\n",
    "plt.xlabel(\"Risk Type\")\n",
    "plt.ylabel(\"Number of Male & Female\")\n",
    "plt.title(\"Number of Male & Female in each group\")\n",
    "plt.legend()\n",
    "plt.show()"
   ]
  },
  {
   "cell_type": "code",
   "execution_count": null,
   "metadata": {},
   "outputs": [],
   "source": []
  }
 ],
 "metadata": {
  "kernelspec": {
   "display_name": "Python 3",
   "language": "python",
   "name": "python3"
  }
 },
 "nbformat": 4,
 "nbformat_minor": 4
}
